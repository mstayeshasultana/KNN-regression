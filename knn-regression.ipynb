{
 "cells": [
  {
   "attachments": {},
   "cell_type": "markdown",
   "metadata": {},
   "source": [
    "Mst Ayesha Sultana <br>\n",
    "February, 05, 2025  <br>\n",
    "\n",
    "# Exercise 1 | TKO_7092 Evaluation of Machine Learning Methods 2025"
   ]
  },
  {
   "cell_type": "markdown",
   "metadata": {},
   "source": [
    "##### Prediction of the metal ion content from multi-parameter data\n",
    "<b> Use K-Nearest Neighbor Regression with euclidean distance to predict total metal concentration (c_total), concentration of Cadmium (Cd) and concentration of Lead (Pb), using number of neighbors k = 1, 3, 5, 7.</b>\n",
    "\n",
    "    - You may use Nearest Neighbor Regression from https://scikit-learn.org/stable/modules/neighbors.html   \n",
    "    - Implement Leave-One-Out cross-validation and calculate the C-index for each output (c_total, Cd, Pb). \n",
    "    - Implement Leave-Replicas-Out cross-validation and calculate the C-index for each output (c_total, Cd, Pb).\n",
    "    - Return your solution as a Jupyter Notebook .ipynb notebook and as a PDF-file made from it. Please, add your full name to the file name.\n",
    "    - The exercise will be graded by a maximum of 2 points.\n",
    "    - Submit to moodle your solution on ** Wednesday 5 of February ** at the latest.\n",
    "  \n",
    "<b>Please be aware that you are required to submit your individual solution.<br> \n",
    "Submissions with identical or similar code will result in a failure for the exercise.</b>"
   ]
  },
  {
   "cell_type": "markdown",
   "metadata": {},
   "source": [
    "## Import libraries"
   ]
  },
  {
   "cell_type": "code",
   "execution_count": 4,
   "metadata": {
    "tags": []
   },
   "outputs": [],
   "source": [
    "# In this cell import all libraries you need. For example: \n",
    "import numpy as np\n",
    "import pandas as pd\n",
    "from scipy.stats import somersd\n",
    "from sklearn.model_selection import LeaveOneOut\n",
    "from sklearn.neighbors import KNeighborsRegressor\n",
    "from sklearn.model_selection import GroupKFold\n",
    "import matplotlib.pyplot as plt\n"
   ]
  },
  {
   "cell_type": "markdown",
   "metadata": {},
   "source": [
    "## Read and visualize the dataset"
   ]
  },
  {
   "cell_type": "markdown",
   "metadata": {
    "jp-MarkdownHeadingCollapsed": true
   },
   "source": [
    "<p> <b>Note:</b> This dataset differs slightly from the one used in the video lectures. <br>\n",
    "<b>In this dataset, some mixtures have 3 replicas, while others have 4 replicas. </b> </p> \n",
    "\n",
    "In the following cell: \n",
    "- Read the file water_data.csv\n",
    "- Print the dimesions of the dataset (i.e. number of rows and columns) and display the first 5 rows.\n",
    "- Identify the inputs and the outputs columns.\n",
    "- Provide the number of mixtures with 3 replicas and 4 replicas, respectively."
   ]
  },
  {
   "cell_type": "code",
   "execution_count": 7,
   "metadata": {
    "tags": []
   },
   "outputs": [],
   "source": [
    "# Path of the datset\n",
    "data_path = \"water_data.csv\"\n",
    "\n",
    "# Read the dataset\n",
    "df = pd.read_csv(data_path)"
   ]
  },
  {
   "cell_type": "code",
   "execution_count": 8,
   "metadata": {},
   "outputs": [
    {
     "name": "stdout",
     "output_type": "stream",
     "text": [
      "Dimention of the data: (225, 6)\n"
     ]
    },
    {
     "data": {
      "text/html": [
       "<div>\n",
       "<style scoped>\n",
       "    .dataframe tbody tr th:only-of-type {\n",
       "        vertical-align: middle;\n",
       "    }\n",
       "\n",
       "    .dataframe tbody tr th {\n",
       "        vertical-align: top;\n",
       "    }\n",
       "\n",
       "    .dataframe thead th {\n",
       "        text-align: right;\n",
       "    }\n",
       "</style>\n",
       "<table border=\"1\" class=\"dataframe\">\n",
       "  <thead>\n",
       "    <tr style=\"text-align: right;\">\n",
       "      <th></th>\n",
       "      <th>c_total</th>\n",
       "      <th>Cd</th>\n",
       "      <th>Pb</th>\n",
       "      <th>Mod1</th>\n",
       "      <th>Mod2</th>\n",
       "      <th>Mod3</th>\n",
       "    </tr>\n",
       "  </thead>\n",
       "  <tbody>\n",
       "    <tr>\n",
       "      <th>0</th>\n",
       "      <td>0.0</td>\n",
       "      <td>0.0</td>\n",
       "      <td>0.0</td>\n",
       "      <td>-0.999216</td>\n",
       "      <td>-0.714208</td>\n",
       "      <td>-0.414911</td>\n",
       "    </tr>\n",
       "    <tr>\n",
       "      <th>1</th>\n",
       "      <td>0.0</td>\n",
       "      <td>0.0</td>\n",
       "      <td>0.0</td>\n",
       "      <td>-0.990800</td>\n",
       "      <td>-0.714373</td>\n",
       "      <td>-0.238335</td>\n",
       "    </tr>\n",
       "    <tr>\n",
       "      <th>2</th>\n",
       "      <td>0.0</td>\n",
       "      <td>0.0</td>\n",
       "      <td>0.0</td>\n",
       "      <td>-0.990539</td>\n",
       "      <td>-0.714125</td>\n",
       "      <td>0.020788</td>\n",
       "    </tr>\n",
       "    <tr>\n",
       "      <th>3</th>\n",
       "      <td>14.0</td>\n",
       "      <td>0.0</td>\n",
       "      <td>14.0</td>\n",
       "      <td>-1.001247</td>\n",
       "      <td>-0.713546</td>\n",
       "      <td>0.945465</td>\n",
       "    </tr>\n",
       "    <tr>\n",
       "      <th>4</th>\n",
       "      <td>14.0</td>\n",
       "      <td>0.0</td>\n",
       "      <td>14.0</td>\n",
       "      <td>-1.013727</td>\n",
       "      <td>-0.714125</td>\n",
       "      <td>0.569631</td>\n",
       "    </tr>\n",
       "  </tbody>\n",
       "</table>\n",
       "</div>"
      ],
      "text/plain": [
       "   c_total   Cd    Pb      Mod1      Mod2      Mod3\n",
       "0      0.0  0.0   0.0 -0.999216 -0.714208 -0.414911\n",
       "1      0.0  0.0   0.0 -0.990800 -0.714373 -0.238335\n",
       "2      0.0  0.0   0.0 -0.990539 -0.714125  0.020788\n",
       "3     14.0  0.0  14.0 -1.001247 -0.713546  0.945465\n",
       "4     14.0  0.0  14.0 -1.013727 -0.714125  0.569631"
      ]
     },
     "execution_count": 8,
     "metadata": {},
     "output_type": "execute_result"
    }
   ],
   "source": [
    "# Dimention of the dataset\n",
    "dimen = df.shape\n",
    "print(\"Dimention of the data:\", dimen)\n",
    "\n",
    "# Print first 5 rows from the dataset\n",
    "df.head(5)"
   ]
  },
  {
   "cell_type": "markdown",
   "metadata": {},
   "source": [
    "<b> Identiying the inputs and outputs </b>\n",
    "\n",
    "There are a total of six columns. \n",
    "\n",
    "The first three columns include the data for our outputs(targets). which are the total concentration (c_total), the amount of Cadmium(Cd) and the amount of Lead(Pb) in a data point that we will predict from the inputs.\n",
    "\n",
    "The following three colums Mod1, Mod2, Mod3 will be used as an inputs(features) to predict the outputs."
   ]
  },
  {
   "cell_type": "code",
   "execution_count": 10,
   "metadata": {},
   "outputs": [
    {
     "name": "stdout",
     "output_type": "stream",
     "text": [
      "Name of the input columns:  ['Mod1', 'Mod2', 'Mod3']\n",
      "Name of the output columns:  ['c_total', 'Cd', 'Pb']\n"
     ]
    }
   ],
   "source": [
    "inputs_columns = ['Mod1', 'Mod2', 'Mod3']\n",
    "outputs_columns = ['c_total', 'Cd', 'Pb']\n",
    "\n",
    "print(\"Name of the input columns: \", inputs_columns)\n",
    "print(\"Name of the output columns: \", outputs_columns)\n"
   ]
  },
  {
   "cell_type": "markdown",
   "metadata": {},
   "source": [
    "<b> Number of mixtures with 3 replicas and 4 replicas </b> \n",
    "\n",
    "To get the number of mixture replicas, group the rows of the DataFrame df by the unique combinations of the columns 'c_total', 'Cd', and 'Pb', then count the number of occurrences for each group."
   ]
  },
  {
   "cell_type": "code",
   "execution_count": 12,
   "metadata": {},
   "outputs": [
    {
     "name": "stdout",
     "output_type": "stream",
     "text": [
      "Number of mixtures with 3 replicas: 43\n",
      "Number of mixtures with 4 replicas: 24\n"
     ]
    }
   ],
   "source": [
    "# Grouping the rows with unique number of columns 'c_total', 'Cd', 'Pb'\n",
    "total_replicas = df.groupby(['c_total', 'Cd', 'Pb']).size()\n",
    "\n",
    "# Count the number of groups with 3 replicas and 4 replicas\n",
    "three_replicas = total_replicas[total_replicas == 3].count()\n",
    "four_replicas = total_replicas[total_replicas == 4].count()\n",
    "\n",
    "print(\"Number of mixtures with 3 replicas:\", three_replicas)\n",
    "print(\"Number of mixtures with 4 replicas:\", four_replicas)"
   ]
  },
  {
   "cell_type": "code",
   "execution_count": 13,
   "metadata": {},
   "outputs": [],
   "source": [
    "# Defining a list of the values of K to be used for our model training with K-Nearest Neighbor Regression \n",
    "k_values = [1, 3, 5, 7]"
   ]
  },
  {
   "cell_type": "markdown",
   "metadata": {},
   "source": [
    "## C-index code "
   ]
  },
  {
   "cell_type": "code",
   "execution_count": 15,
   "metadata": {},
   "outputs": [],
   "source": [
    "# In this cell is the fuction that computes the c-index value based on Somers'D statistic.\n",
    "# Use this fuction as the evaluation metric in the Leave-One-Out (LOOCV) and Leave-Replicas-Out (LROCV) cross-validation methods.\n",
    "\n",
    "def cindex(true, pred):\n",
    "    s_d = somersd(true, y=pred, alternative='two-sided')\n",
    "    c_index = (s_d.statistic + 1.0)/2.0\n",
    "    return c_index"
   ]
  },
  {
   "cell_type": "markdown",
   "metadata": {},
   "source": [
    "## Functions"
   ]
  },
  {
   "cell_type": "code",
   "execution_count": 17,
   "metadata": {},
   "outputs": [],
   "source": [
    "def perform_loocv(X, y, model):\n",
    "    \"\"\"\n",
    "    Perform Leave-One-Out Cross-Validation in a KNeighborRegression model.\n",
    "    Returns a pair of (true, predicted) values for each test set as a result of loocv.\n",
    "    \"\"\"\n",
    "    # y_true will have the true values from the output columns\n",
    "    y_true = []\n",
    "\n",
    "    # y_true will have the predicted values from the model\n",
    "    y_pred = []\n",
    "\n",
    "    # Initializing LeaveOneOut\n",
    "    loo = LeaveOneOut()\n",
    "\n",
    "    for train_idx, test_idx in loo.split(X):\n",
    "        X_train, X_test = X.iloc[train_idx], X.iloc[test_idx]\n",
    "        y_train, y_test = y.iloc[train_idx], y.iloc[test_idx]\n",
    "\n",
    "        # Train the model on the splited data\n",
    "        model.fit(X_train, y_train)\n",
    "\n",
    "        # Checking the prediction with the test data\n",
    "        pred = model.predict(X_test)\n",
    "\n",
    "        # Storing the true value and predicted values\n",
    "        y_true.append(y_test.values[0])\n",
    "        y_pred.append(pred[0])\n",
    "\n",
    "    return y_true, y_pred\n",
    "\n",
    "def perform_lrocv(X, y, model, groups, df):\n",
    "    \"\"\"\n",
    "    Perform Leave-Replicas-Out Cross-Validation for a KNeighborRegression model.\n",
    "    Returns a pair of (true, predicted) values for each test set as a result of lrocv.\n",
    "    \"\"\"\n",
    "    # y_true will have the true values from the output columns\n",
    "    y_true = []\n",
    "\n",
    "    # y_true will have the predicted values from the model\n",
    "    y_pred = []\n",
    "\n",
    "    for train_idx, test_idx in group_kfold.split(df, groups=groups):\n",
    "        X_train, X_test = X.iloc[train_idx], X.iloc[test_idx]\n",
    "        y_train, y_test = y.iloc[train_idx], y.iloc[test_idx]\n",
    "        \n",
    "        # Train the model on the splited data\n",
    "        model.fit(X_train, y_train)\n",
    "\n",
    "        # Checking the prediction with the test data\n",
    "        pred = model.predict(X_test)\n",
    "\n",
    "        # Storing the true value and predicted values\n",
    "        y_true.extend(y_test.tolist())\n",
    "        y_pred.extend(pred.tolist())\n",
    "\n",
    "    return y_true, y_pred\n",
    "\n",
    "\n",
    "def calculate_cindex_result(results):\n",
    "    \"\"\"\n",
    "    Calculate the C-index for each k using the provided true and predicted values.\n",
    "    \"\"\"\n",
    "    cindex_results = {}\n",
    "\n",
    "    for k, (y_true, y_pred) in results.items():\n",
    "        c = cindex(y_true, y_pred)\n",
    "        cindex_results[k] = c\n",
    "\n",
    "    return cindex_results\n"
   ]
  },
  {
   "cell_type": "markdown",
   "metadata": {},
   "source": [
    "## Results for Leave-One-Out cross-validation"
   ]
  },
  {
   "cell_type": "code",
   "execution_count": 19,
   "metadata": {},
   "outputs": [],
   "source": [
    "# Initialize the KNN regressor with k values\n",
    "knn_models = {k: KNeighborsRegressor(n_neighbors=k, metric='euclidean') for k in k_values}\n",
    "\n",
    "# Storing the feature/input columns in X\n",
    "X = df[inputs_columns]\n",
    "loocv_results = {}\n",
    "\n",
    "# Initialize loocv_cindex_results with empty dictionaries for each output column\n",
    "loocv_cindex_results = {target: {} for target in outputs_columns}\n",
    "\n",
    "# Perform LOO CV and calculate C-index\n",
    "for output_col in outputs_columns:\n",
    "    y = df[output_col]  # y will store the data of specific output columns (c_total, Cd, Pb)\n",
    "\n",
    "    # Perform LOO CV for the k values one by one\n",
    "    for k in k_values:\n",
    "        # Perform LOO CV, returning true and predicted values\n",
    "        y_true, y_pred = perform_loocv(X, y, knn_models[k])\n",
    "        \n",
    "        # Store the results for the current k\n",
    "        loocv_results[k] = (y_true, y_pred)\n",
    "    \n",
    "    # Now calculate the C-index for the current output column\n",
    "    loocv_cindex_results[output_col] = calculate_cindex_result(loocv_results)\n"
   ]
  },
  {
   "cell_type": "code",
   "execution_count": 20,
   "metadata": {},
   "outputs": [
    {
     "name": "stdout",
     "output_type": "stream",
     "text": [
      "\n",
      "C-index Results for c_total:\n",
      "k=1: C-index=0.9083\n",
      "k=3: C-index=0.9142\n",
      "k=5: C-index=0.8941\n",
      "k=7: C-index=0.8737\n",
      "\n",
      "C-index Results for Cd:\n",
      "k=1: C-index=0.9219\n",
      "k=3: C-index=0.8996\n",
      "k=5: C-index=0.8620\n",
      "k=7: C-index=0.8142\n",
      "\n",
      "C-index Results for Pb:\n",
      "k=1: C-index=0.8805\n",
      "k=3: C-index=0.8745\n",
      "k=5: C-index=0.8543\n",
      "k=7: C-index=0.8355\n"
     ]
    }
   ],
   "source": [
    "\n",
    "# Print the C-index results with k values and output columns\n",
    "for output_col in outputs_columns:\n",
    "    print(f\"\\nC-index Results for {output_col}:\")\n",
    "    for k in k_values:\n",
    "        if k in loocv_cindex_results[output_col]:\n",
    "            cindex_value = loocv_cindex_results[output_col][k]\n",
    "            print(f\"k={k}: C-index={cindex_value:.4f}\")\n",
    "          "
   ]
  },
  {
   "cell_type": "markdown",
   "metadata": {},
   "source": [
    "## Results for Leave-Replicas-Out cross-validation"
   ]
  },
  {
   "cell_type": "code",
   "execution_count": 22,
   "metadata": {},
   "outputs": [
    {
     "name": "stdout",
     "output_type": "stream",
     "text": [
      "\n",
      "C-index Results for c_total:\n",
      "k=1: C-index=0.8184\n",
      "k=3: C-index=0.8187\n",
      "k=5: C-index=0.8117\n",
      "k=7: C-index=0.8164\n",
      "\n",
      "C-index Results for Cd:\n",
      "k=1: C-index=0.7784\n",
      "k=3: C-index=0.7615\n",
      "k=5: C-index=0.7397\n",
      "k=7: C-index=0.7153\n",
      "\n",
      "C-index Results for Pb:\n",
      "k=1: C-index=0.7378\n",
      "k=3: C-index=0.7689\n",
      "k=5: C-index=0.7478\n",
      "k=7: C-index=0.7618\n"
     ]
    }
   ],
   "source": [
    "# Initialize the KNN regressor with k values\n",
    "knn_models = {k: KNeighborsRegressor(n_neighbors=k, metric='euclidean') for k in k_values}\n",
    "\n",
    "X = df[inputs_columns]\n",
    "lrocv_results = {}\n",
    "\n",
    "# Initialize the cindex_lrocv_results dictionary for storing results of C-index\n",
    "cindex_lrocv_results = {target: {} for target in outputs_columns}\n",
    "\n",
    "# Split the dataset into 67 groups (since we have 43 total of 3 replicas and 24 total of 4 replicas)\n",
    "group_kfold = GroupKFold(n_splits=67)  \n",
    "groups = df.groupby(outputs_columns).ngroup()\n",
    "\n",
    "# Perform LRO CV and calculate C-index for each output column\n",
    "for output_col in outputs_columns:\n",
    "    y = df[output_col]\n",
    "    \n",
    "    # Perform LRO CV for the k values one by one\n",
    "    for k in k_values:\n",
    "        knr = knn_models[k]  # Get the model for the current k value\n",
    "        \n",
    "        # Perform LRO-CV, returning true and predicted values\n",
    "        y_true, y_pred = perform_lrocv(X, y, knr, groups, df)\n",
    "        \n",
    "        # Store the results for the current k\n",
    "        lrocv_results[k] = (y_true, y_pred)\n",
    "\n",
    "    # Now calculate the C-index for the current output column using the LRO CV results\n",
    "    cindex_lrocv_results[output_col] = calculate_cindex_result(lrocv_results)\n",
    "\n",
    "# Print the C-index results with k values and output columns\n",
    "for output_col in outputs_columns:\n",
    "    print(f\"\\nC-index Results for {output_col}:\")\n",
    "    for k in k_values:\n",
    "        if k in cindex_lrocv_results[output_col]:\n",
    "            cindex_value = cindex_lrocv_results[output_col][k]\n",
    "            print(f\"k={k}: C-index={cindex_value:.4f}\")\n"
   ]
  },
  {
   "cell_type": "markdown",
   "metadata": {},
   "source": [
    "## Plot Leave-One-Out and Leave-Replicas-Out Results"
   ]
  },
  {
   "cell_type": "markdown",
   "metadata": {},
   "source": [
    "Note: You may plot the results as they were presented in the video lecture (refer to MOOC2-Module 2 .pptx slides)."
   ]
  },
  {
   "cell_type": "code",
   "execution_count": 25,
   "metadata": {},
   "outputs": [
    {
     "data": {
      "image/png": "[encoded data removed]",
      "text/plain": [
       "<Figure size 1800x500 with 3 Axes>"
      ]
     },
     "metadata": {},
     "output_type": "display_data"
    }
   ],
   "source": [
    "fig, axes = plt.subplots(1, 3, figsize=(18, 5), sharey=True)\n",
    "fig.suptitle('Comparison of C-Index for LRO-CV and LOO-CV', fontsize=16)\n",
    "\n",
    "for i, output_col in enumerate(outputs_columns):\n",
    "    ax = axes[i]\n",
    "    lrocv_cindex_vals = [cindex_lrocv_results[output_col].get(k, 0) for k in k_values]\n",
    "    loocv_cindex_vals = [loocv_cindex_results[output_col].get(k, 0) for k in k_values]\n",
    "    \n",
    "    ax.plot(k_values, lrocv_cindex_vals, marker='o', label=f'LRO-CV: {output_col}', color='tab:blue')\n",
    "    ax.plot(k_values, loocv_cindex_vals, marker='s', label=f'LOO-CV: {output_col}', color='tab:orange')\n",
    "    \n",
    "    ax.set_title(f'Target: {output_col}')\n",
    "    ax.set_xlabel('k Values')\n",
    "    ax.set_ylabel('C-Index')\n",
    "    ax.set_ylim(0, 1)\n",
    "    ax.grid(True, linestyle='--', alpha=0.6)\n",
    "    ax.legend()\n",
    "\n",
    "plt.tight_layout()\n",
    "plt.subplots_adjust(wspace=0.3)\n",
    "plt.show()\n"
   ]
  },
  {
   "cell_type": "markdown",
   "metadata": {},
   "source": [
    "## Interpretation of results\n",
    "#### Answer the following questions based on the results obtained\n",
    "1. Which cross-validation approach produced more optimistic results, and why?\n",
    "2. Which cross-validation method provides a better estimate of the model's performance on unseen mixtures? Explain your answer."
   ]
  },
  {
   "cell_type": "markdown",
   "metadata": {},
   "source": [
    "#### Answers:\n",
    "\n",
    "<b>1. Which cross-validation approach produced more optimistic results, and why?</b>\n",
    "\n",
    "To figure out which cross-validation method produced more optimistic results, we can look at the C-index values from Leave-One-Out (LOO) and Leave-Replicas-Out (LRO) cross-validation. From the results, we see that LOO gave higher C-index values for all three targets (Total concentration, Cadmium, and Lead), and the number of neighbors used didn't make much difference.\n",
    "\n",
    "LOO produced more optimistic results because it didn't fully consider that the test and training sets might share similar data points, especially when replicates of the same mixture are involved. Since LOO holds out only a single data point at a time for testing, the model is trained on data that might still include replicates of the same mixture, violating the independence assumption between the test and training sets. This leads to an overestimation of the model's performance, making it seem better than it would be in a real-world scenario."
   ]
  },
  {
   "cell_type": "markdown",
   "metadata": {},
   "source": [
    "<b>Which cross-validation method provides a better estimate of the model's performance on unseen mixtures? Explain your answer.</b>\n",
    "\n",
    "Leave-Replicas-Out cross-validation provides a better estimate of the model's performance on unseen mixtures. This is because LRO respects the independence assumption by ensuring that the test and training sets do not share replicates of the same mixture. By avoiding this overlap, LRO provides a more realistic evaluation of the model's ability to generalize to new, unseen data.\n",
    "\n",
    "Looking at the results, we can see that the C-index values for LRO are generally lower compared to Leave-One-Out (LOO), which suggests that LRO provides a more accurate estimate of the model's true performance. While LOO shows higher C-index values (closer to 1), this can be misleading because LOO overestimates the model's performance due to the test and training sets having replicates of the same mixture, leading to artificially higher C-index values.\n",
    "\n",
    "Therefore, LRO's lower but more stable C-index values indicate it is providing a better reflection of the model's real-world performance on new mixtures."
   ]
  }
 ],
 "metadata": {
  "kernelspec": {
   "display_name": "Python [conda env:base] *",
   "language": "python",
   "name": "conda-base-py"
  },
  "language_info": {
   "codemirror_mode": {
    "name": "ipython",
    "version": 3
   },
   "file_extension": ".py",
   "mimetype": "text/x-python",
   "name": "python",
   "nbconvert_exporter": "python",
   "pygments_lexer": "ipython3",
   "version": "3.12.7"
  },
  "toc": {
   "base_numbering": 1,
   "nav_menu": {},
   "number_sections": false,
   "sideBar": true,
   "skip_h1_title": false,
   "title_cell": "Table of Contents",
   "title_sidebar": "Contents",
   "toc_cell": false,
   "toc_position": {},
   "toc_section_display": true,
   "toc_window_display": true
  },
  "varInspector": {
   "cols": {
    "lenName": 16,
    "lenType": 16,
    "lenVar": 40
   },
   "kernels_config": {
    "python": {
     "delete_cmd_postfix": "",
     "delete_cmd_prefix": "del ",
     "library": "var_list.py",
     "varRefreshCmd": "print(var_dic_list())"
    },
    "r": {
     "delete_cmd_postfix": ") ",
     "delete_cmd_prefix": "rm(",
     "library": "var_list.r",
     "varRefreshCmd": "cat(var_dic_list()) "
    }
   },
   "types_to_exclude": [
    "module",
    "function",
    "builtin_function_or_method",
    "instance",
    "_Feature"
   ],
   "window_display": false
  },
  "widgets": {
   "application/vnd.jupyter.widget-state+json": {
    "state": {},
    "version_major": 2,
    "version_minor": 0
   }
  }
 },
 "nbformat": 4,
 "nbformat_minor": 4
}
